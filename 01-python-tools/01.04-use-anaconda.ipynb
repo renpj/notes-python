{
 "cells": [
  {
   "cell_type": "markdown",
   "metadata": {},
   "source": [
    "# 使用 Anaconda"
   ]
  },
  {
   "cell_type": "markdown",
   "metadata": {},
   "source": [
    "[Anaconda](http://www.continuum.io/downloads)是一个很好用的Python IDE，它集成了很多科学计算需要使用的**python**第三方工具包。"
   ]
  },
  {
   "cell_type": "markdown",
   "metadata": {},
   "source": [
    "## conda 的使用 "
   ]
  },
  {
   "cell_type": "markdown",
   "metadata": {},
   "source": [
    "根据自己的操作系统安装好[Anaconda](http://www.continuum.io/downloads)后，在命令行下输入：\n",
    "\n",
    "    conda list\n",
    "\n",
    "可以看已经安装好的**python**第三方工具包，这里我们使用 `magic` 命令 `%%cmd` 在 `ipython cell` 中来执行这个命令："
   ]
  },
  {
   "cell_type": "code",
   "execution_count": null,
   "metadata": {},
   "outputs": [],
   "source": [
    "!conda list"
   ]
  },
  {
   "cell_type": "markdown",
   "metadata": {},
   "source": [
    "第一次安装好 [Anaconda](http://www.continuum.io/downloads) 以后，可以在命令行输入以下命令使 [Anaconda](http://www.continuum.io/downloads) 保持最新：\n",
    "\n",
    "    conda update conda\n",
    "    conda update anaconda\n",
    "\n",
    "conda 是一种很强大的工具，具体用法可以参照它的[文档](http://conda.pydata.org/docs/)。\n",
    "\n",
    "也可以参考它的 [cheat sheet](http://conda.pydata.org/docs/_downloads/conda-cheatsheet.pdf) 来快速查看它的用法。\n",
    "\n",
    "可以使用它来安装，更新，卸载第三方的 **python** 工具包：\n",
    "\n",
    "    conda install <some package>\n",
    "    conda update <some package>\n",
    "    conda remove <some package>\n",
    "\n",
    "在安装或更新时可以指定安装的版本号，例如需要使用 `numpy 1.8.1`：\n",
    "\n",
    "    conda install numpy=1.8.1\n",
    "    conda update numpy=1.8.1\n",
    "\n",
    "查看 `conda` 的信息：\n",
    "\n",
    "    conda info"
   ]
  },
  {
   "cell_type": "code",
   "execution_count": null,
   "metadata": {},
   "outputs": [],
   "source": [
    "!conda info"
   ]
  },
  {
   "cell_type": "markdown",
   "metadata": {},
   "source": [
    "一个很棒的功能是 `conda` 可以产生一个自定义的环境，假设在安装的是 **Python 2.7** 的情况下，想使用 **Python 3.4**，只需要在命令行下使用 `conda` 产生一个新的环境：\n",
    "\n",
    "    conda create -n py34 python=3.4\n",
    "\n",
    "这里这个环境被命名为 `py34` ，可以根据喜好将 `py34` 改成其他的名字。\n",
    "\n",
    "使用这个环境时，只需要命令行下输入：\n",
    "\n",
    "``` python\n",
    "activate py34 #(windows)\n",
    "source activate py34 #(linux, mac)\n",
    "```\n",
    "\n",
    "此时，我们的 **Python** 版本便是 **`python 3.4`**了。"
   ]
  },
  {
   "cell_type": "markdown",
   "metadata": {},
   "source": [
    "## spyder 编辑器"
   ]
  },
  {
   "cell_type": "markdown",
   "metadata": {},
   "source": [
    "`Anaconda` 默认使用的编辑器是 `spyder`，可以在命令行下输入：\n",
    "\n",
    "    spyder\n",
    "\n",
    "来进入这个编辑器，具体使用方法不做介绍。"
   ]
  }
 ],
 "metadata": {
  "kernelspec": {
   "display_name": "Python 3",
   "language": "python",
   "name": "python3"
  },
  "language_info": {
   "codemirror_mode": {
    "name": "ipython",
    "version": 3
   },
   "file_extension": ".py",
   "mimetype": "text/x-python",
   "name": "python",
   "nbconvert_exporter": "python",
   "pygments_lexer": "ipython3",
   "version": "3.6.6"
  }
 },
 "nbformat": 4,
 "nbformat_minor": 1
}
